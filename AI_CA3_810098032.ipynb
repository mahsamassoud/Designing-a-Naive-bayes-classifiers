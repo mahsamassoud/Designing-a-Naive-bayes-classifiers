{
 "cells": [
  {
   "cell_type": "markdown",
   "metadata": {},
   "source": [
    "# Mahsa Massoud\n",
    "## AI- CA3 - 810098032\n",
    "\n",
    "In this assignment, we want to predict categories of books , enlisting the helping hand of Najve bayes.\n",
    "Necessary libraries like, pandas, matplotlib, hazm,etc have been installed.\n"
   ]
  },
  {
   "cell_type": "code",
   "execution_count": 53,
   "metadata": {},
   "outputs": [
    {
     "name": "stdout",
     "output_type": "stream",
     "text": [
      "Requirement already satisfied: hazm in c:\\users\\asus\\anaconda3\\lib\\site-packages (0.7.0)\n",
      "Requirement already satisfied: nltk==3.3 in c:\\users\\asus\\anaconda3\\lib\\site-packages (from hazm) (3.3)\n",
      "Requirement already satisfied: six in c:\\users\\asus\\anaconda3\\lib\\site-packages (from nltk==3.3->hazm) (1.15.0)\n"
     ]
    }
   ],
   "source": [
    "!pip install hazm"
   ]
  },
  {
   "cell_type": "code",
   "execution_count": 54,
   "metadata": {},
   "outputs": [],
   "source": [
    "from __future__ import unicode_literals\n",
    "from hazm import *\n",
    "import pandas as pd \n"
   ]
  },
  {
   "cell_type": "code",
   "execution_count": 55,
   "metadata": {},
   "outputs": [
    {
     "data": {
      "text/html": [
       "<div>\n",
       "<style scoped>\n",
       "    .dataframe tbody tr th:only-of-type {\n",
       "        vertical-align: middle;\n",
       "    }\n",
       "\n",
       "    .dataframe tbody tr th {\n",
       "        vertical-align: top;\n",
       "    }\n",
       "\n",
       "    .dataframe thead th {\n",
       "        text-align: right;\n",
       "    }\n",
       "</style>\n",
       "<table border=\"1\" class=\"dataframe\">\n",
       "  <thead>\n",
       "    <tr style=\"text-align: right;\">\n",
       "      <th></th>\n",
       "      <th>title</th>\n",
       "      <th>description</th>\n",
       "      <th>categories</th>\n",
       "    </tr>\n",
       "  </thead>\n",
       "  <tbody>\n",
       "    <tr>\n",
       "      <th>0</th>\n",
       "      <td>ساختار نظریه‌های جامعه‌شناسی ایران</td>\n",
       "      <td>«ساختار نظریه‌های جامعه‌شناسی ایران» نوشته ابو...</td>\n",
       "      <td>جامعه‌شناسی</td>\n",
       "    </tr>\n",
       "    <tr>\n",
       "      <th>1</th>\n",
       "      <td>جامعه و فرهنگ کانادا</td>\n",
       "      <td>«جامعه و فرهنگ کانادا» از مجموعه کتاب‌های «جام...</td>\n",
       "      <td>جامعه‌شناسی</td>\n",
       "    </tr>\n",
       "    <tr>\n",
       "      <th>2</th>\n",
       "      <td>پرسش از موعود</td>\n",
       "      <td>پرسش‌های مختلفی درباره زندگی و شخصیت امام مهدی...</td>\n",
       "      <td>کلیات اسلام</td>\n",
       "    </tr>\n",
       "    <tr>\n",
       "      <th>3</th>\n",
       "      <td>موج، دریا</td>\n",
       "      <td>«موج دریا» به قلم مهری ماهوتی (-۱۳۴۰) و تصویرگ...</td>\n",
       "      <td>داستان کودک و نوجوانان</td>\n",
       "    </tr>\n",
       "    <tr>\n",
       "      <th>4</th>\n",
       "      <td>پرسش از غرب</td>\n",
       "      <td>«پرسش از غرب» به قلم دکتر اسماعیل شفیعی سروستا...</td>\n",
       "      <td>جامعه‌شناسی</td>\n",
       "    </tr>\n",
       "    <tr>\n",
       "      <th>5</th>\n",
       "      <td>خارج از خط</td>\n",
       "      <td>«خارج از خط» مجموعه داستان کوتاهی نوشته محمود ...</td>\n",
       "      <td>داستان کوتاه</td>\n",
       "    </tr>\n",
       "    <tr>\n",
       "      <th>6</th>\n",
       "      <td>لاک صورتی</td>\n",
       "      <td>«لاک صورتی» نوشته جلال آل احمد(۱۳۴۸-۱۳۰۲) نویس...</td>\n",
       "      <td>داستان کوتاه</td>\n",
       "    </tr>\n",
       "    <tr>\n",
       "      <th>7</th>\n",
       "      <td>راهبردهای سرمایه گذاری کسب و کار</td>\n",
       "      <td>راه‌های بسیار زیادی برای سرمایه‌گذاری در دنیا ...</td>\n",
       "      <td>مدیریت و کسب و کار</td>\n",
       "    </tr>\n",
       "    <tr>\n",
       "      <th>8</th>\n",
       "      <td>تحلیل گفتمان و نظرات رسانه‌های بریتانیا: چهره‌...</td>\n",
       "      <td>با شکل‌گیری و رشد روز افزون دهکده جهانی، بشر ب...</td>\n",
       "      <td>کلیات اسلام</td>\n",
       "    </tr>\n",
       "    <tr>\n",
       "      <th>9</th>\n",
       "      <td>رویکردی جدید به اختلالات مصرف مواد و مشاوره‌ی ...</td>\n",
       "      <td>«رویکردی جدید به اختلالات مصرف مواد و مشاوره‌ی...</td>\n",
       "      <td>جامعه‌شناسی</td>\n",
       "    </tr>\n",
       "  </tbody>\n",
       "</table>\n",
       "</div>"
      ],
      "text/plain": [
       "                                               title  \\\n",
       "0                 ساختار نظریه‌های جامعه‌شناسی ایران   \n",
       "1                               جامعه و فرهنگ کانادا   \n",
       "2                                      پرسش از موعود   \n",
       "3                                          موج، دریا   \n",
       "4                                        پرسش از غرب   \n",
       "5                                         خارج از خط   \n",
       "6                                          لاک صورتی   \n",
       "7                   راهبردهای سرمایه گذاری کسب و کار   \n",
       "8  تحلیل گفتمان و نظرات رسانه‌های بریتانیا: چهره‌...   \n",
       "9  رویکردی جدید به اختلالات مصرف مواد و مشاوره‌ی ...   \n",
       "\n",
       "                                         description              categories  \n",
       "0  «ساختار نظریه‌های جامعه‌شناسی ایران» نوشته ابو...             جامعه‌شناسی  \n",
       "1  «جامعه و فرهنگ کانادا» از مجموعه کتاب‌های «جام...             جامعه‌شناسی  \n",
       "2  پرسش‌های مختلفی درباره زندگی و شخصیت امام مهدی...             کلیات اسلام  \n",
       "3  «موج دریا» به قلم مهری ماهوتی (-۱۳۴۰) و تصویرگ...  داستان کودک و نوجوانان  \n",
       "4  «پرسش از غرب» به قلم دکتر اسماعیل شفیعی سروستا...             جامعه‌شناسی  \n",
       "5  «خارج از خط» مجموعه داستان کوتاهی نوشته محمود ...            داستان کوتاه  \n",
       "6  «لاک صورتی» نوشته جلال آل احمد(۱۳۴۸-۱۳۰۲) نویس...            داستان کوتاه  \n",
       "7  راه‌های بسیار زیادی برای سرمایه‌گذاری در دنیا ...      مدیریت و کسب و کار  \n",
       "8  با شکل‌گیری و رشد روز افزون دهکده جهانی، بشر ب...             کلیات اسلام  \n",
       "9  «رویکردی جدید به اختلالات مصرف مواد و مشاوره‌ی...             جامعه‌شناسی  "
      ]
     },
     "execution_count": 55,
     "metadata": {},
     "output_type": "execute_result"
    }
   ],
   "source": [
    "train_df = pd.read_csv(\"books_train.csv\")\n",
    "test_df = pd.read_csv(\"books_test.csv\")\n",
    "train_df.head(10)"
   ]
  },
  {
   "cell_type": "markdown",
   "metadata": {},
   "source": [
    "Obviously we have 5 categories for book, each has 2550 words."
   ]
  },
  {
   "cell_type": "code",
   "execution_count": 56,
   "metadata": {},
   "outputs": [
    {
     "data": {
      "text/html": [
       "<div>\n",
       "<style scoped>\n",
       "    .dataframe tbody tr th:only-of-type {\n",
       "        vertical-align: middle;\n",
       "    }\n",
       "\n",
       "    .dataframe tbody tr th {\n",
       "        vertical-align: top;\n",
       "    }\n",
       "\n",
       "    .dataframe thead th {\n",
       "        text-align: right;\n",
       "    }\n",
       "</style>\n",
       "<table border=\"1\" class=\"dataframe\">\n",
       "  <thead>\n",
       "    <tr style=\"text-align: right;\">\n",
       "      <th></th>\n",
       "      <th>title</th>\n",
       "      <th>description</th>\n",
       "      <th>categories</th>\n",
       "    </tr>\n",
       "  </thead>\n",
       "  <tbody>\n",
       "    <tr>\n",
       "      <th>count</th>\n",
       "      <td>2550</td>\n",
       "      <td>2550</td>\n",
       "      <td>2550</td>\n",
       "    </tr>\n",
       "    <tr>\n",
       "      <th>unique</th>\n",
       "      <td>2502</td>\n",
       "      <td>2535</td>\n",
       "      <td>6</td>\n",
       "    </tr>\n",
       "    <tr>\n",
       "      <th>top</th>\n",
       "      <td>اثر مرکب</td>\n",
       "      <td>ماجراهای هنک در مورد پسری بازیگوش به نام هنک ا...</td>\n",
       "      <td>جامعه‌شناسی</td>\n",
       "    </tr>\n",
       "    <tr>\n",
       "      <th>freq</th>\n",
       "      <td>3</td>\n",
       "      <td>3</td>\n",
       "      <td>425</td>\n",
       "    </tr>\n",
       "  </tbody>\n",
       "</table>\n",
       "</div>"
      ],
      "text/plain": [
       "           title                                        description  \\\n",
       "count       2550                                               2550   \n",
       "unique      2502                                               2535   \n",
       "top     اثر مرکب  ماجراهای هنک در مورد پسری بازیگوش به نام هنک ا...   \n",
       "freq           3                                                  3   \n",
       "\n",
       "         categories  \n",
       "count          2550  \n",
       "unique            6  \n",
       "top     جامعه‌شناسی  \n",
       "freq            425  "
      ]
     },
     "execution_count": 56,
     "metadata": {},
     "output_type": "execute_result"
    }
   ],
   "source": [
    "train_df.describe()"
   ]
  },
  {
   "cell_type": "code",
   "execution_count": 57,
   "metadata": {},
   "outputs": [
    {
     "name": "stdout",
     "output_type": "stream",
     "text": [
      "<class 'pandas.core.frame.DataFrame'>\n",
      "RangeIndex: 2550 entries, 0 to 2549\n",
      "Data columns (total 3 columns):\n",
      " #   Column       Non-Null Count  Dtype \n",
      "---  ------       --------------  ----- \n",
      " 0   title        2550 non-null   object\n",
      " 1   description  2550 non-null   object\n",
      " 2   categories   2550 non-null   object\n",
      "dtypes: object(3)\n",
      "memory usage: 59.9+ KB\n"
     ]
    }
   ],
   "source": [
    "train_df.info()"
   ]
  },
  {
   "cell_type": "code",
   "execution_count": 58,
   "metadata": {},
   "outputs": [
    {
     "name": "stdout",
     "output_type": "stream",
     "text": [
      "[nltk_data] Downloading package stopwords to\n",
      "[nltk_data]     C:\\Users\\Asus\\AppData\\Roaming\\nltk_data...\n",
      "[nltk_data]   Package stopwords is already up-to-date!\n"
     ]
    }
   ],
   "source": [
    "import hazm\n",
    "import re\n",
    "import nltk\n",
    "nltk.download('stopwords')\n",
    "from nltk.corpus import stopwords\n",
    "from nltk.tokenize import RegexpTokenizer"
   ]
  },
  {
   "cell_type": "markdown",
   "metadata": {},
   "source": [
    "In this part, we want to preprocess the data in a suitable order. \n",
    "First we normalize each row of text( title+ description of each book) by hazm.Normalizer. Then we make a list of stopwords of punctuations and also some words which occured enormously in more than one categories not only didn't they give us additional information but also they may cause some problems. we ignore the list of stopwords then make a new column , namly Words, which had been evolved from Lemmatizer method, giving us a list of lemmatized worf for each book.\n",
    "This word_tokenize() is a function which breaks a sentence into a list of it's words .\n",
    "\n"
   ]
  },
  {
   "cell_type": "code",
   "execution_count": 59,
   "metadata": {},
   "outputs": [],
   "source": [
    "def preprocessTextofColumn(columnName , dataframe):\n",
    "    normalizer = hazm.Normalizer()\n",
    "    tokenizer = hazm.WordTokenizer()\n",
    "    lemmatizer = hazm.Lemmatizer()\n",
    "    StopWords = set(hazm.utils.stopwords_list())\n",
    "    StopWords = StopWords.union({'کتاب','داستان', 'زندگی','توانستن#توان' ,'کرد#کن' , '؟',':','...', '....' , 'ی','ای',',','،','(',')',':',';','-','_','.','/','+','=','?','\\r','\\n' ,'[',']' ,'؛' , '«', '»','…', '\"' ,'!','#'})\n",
    "    commons ={'سر','شد#شو','کتاب','داستان', 'زندگی', 'کرد#کن' , '؟' , 'توانست#توان',  'خواند#خوان' ,'زد#زن' ,'گفت#گو', 'جلد','داشت#دار' , 'رفت#رو'}\n",
    "    allWords = []\n",
    "    for i in range(dataframe.shape[0]):\n",
    "        text = dataframe.loc[i]['title'] + ' ' + dataframe.loc[i][columnName]\n",
    "        normalizedText = normalizer.affix_spacing(text)\n",
    "        words = tokenizer.tokenize(normalizedText)\n",
    "        filteredWords = []\n",
    "        for word in words:\n",
    "            lamm = lemmatizer.lemmatize(word.lower())\n",
    "            if (word not in StopWords) and (word not in commons) and (lamm not in StopWords) and (lamm not in commons) :\n",
    "                filteredWords.append(lamm)\n",
    "        allWords.append(filteredWords)\n",
    "    newColumnName = 'Words'\n",
    "    dataframe[newColumnName] = allWords\n",
    "    return dataframe"
   ]
  },
  {
   "cell_type": "code",
   "execution_count": 60,
   "metadata": {},
   "outputs": [],
   "source": [
    "new_df = preprocessTextofColumn('description' , train_df)"
   ]
  },
  {
   "cell_type": "code",
   "execution_count": 61,
   "metadata": {},
   "outputs": [
    {
     "data": {
      "text/html": [
       "<div>\n",
       "<style scoped>\n",
       "    .dataframe tbody tr th:only-of-type {\n",
       "        vertical-align: middle;\n",
       "    }\n",
       "\n",
       "    .dataframe tbody tr th {\n",
       "        vertical-align: top;\n",
       "    }\n",
       "\n",
       "    .dataframe thead th {\n",
       "        text-align: right;\n",
       "    }\n",
       "</style>\n",
       "<table border=\"1\" class=\"dataframe\">\n",
       "  <thead>\n",
       "    <tr style=\"text-align: right;\">\n",
       "      <th></th>\n",
       "      <th>title</th>\n",
       "      <th>description</th>\n",
       "      <th>categories</th>\n",
       "      <th>Words</th>\n",
       "    </tr>\n",
       "  </thead>\n",
       "  <tbody>\n",
       "    <tr>\n",
       "      <th>0</th>\n",
       "      <td>ساختار نظریه‌های جامعه‌شناسی ایران</td>\n",
       "      <td>«ساختار نظریه‌های جامعه‌شناسی ایران» نوشته ابو...</td>\n",
       "      <td>جامعه‌شناسی</td>\n",
       "      <td>[ساختار, نظریه, جامعه‌شناس, ایران, ساختار, نظر...</td>\n",
       "    </tr>\n",
       "    <tr>\n",
       "      <th>1</th>\n",
       "      <td>جامعه و فرهنگ کانادا</td>\n",
       "      <td>«جامعه و فرهنگ کانادا» از مجموعه کتاب‌های «جام...</td>\n",
       "      <td>جامعه‌شناسی</td>\n",
       "      <td>[جامعه, فرهنگ, کانادا, جامعه, فرهنگ, کانادا, م...</td>\n",
       "    </tr>\n",
       "    <tr>\n",
       "      <th>2</th>\n",
       "      <td>پرسش از موعود</td>\n",
       "      <td>پرسش‌های مختلفی درباره زندگی و شخصیت امام مهدی...</td>\n",
       "      <td>کلیات اسلام</td>\n",
       "      <td>[پرسش, موعود, پرسش, مختلف, شخصیت, امام, مهدی, ...</td>\n",
       "    </tr>\n",
       "    <tr>\n",
       "      <th>3</th>\n",
       "      <td>موج، دریا</td>\n",
       "      <td>«موج دریا» به قلم مهری ماهوتی (-۱۳۴۰) و تصویرگ...</td>\n",
       "      <td>داستان کودک و نوجوانان</td>\n",
       "      <td>[موج, دریا, موج, دریا, قلم, مهر, ماهوت, ۱۳۴۰, ...</td>\n",
       "    </tr>\n",
       "    <tr>\n",
       "      <th>4</th>\n",
       "      <td>پرسش از غرب</td>\n",
       "      <td>«پرسش از غرب» به قلم دکتر اسماعیل شفیعی سروستا...</td>\n",
       "      <td>جامعه‌شناسی</td>\n",
       "      <td>[پرسش, غرب, پرسش, غرب, قلم, دکتر, اسماعیل, شفی...</td>\n",
       "    </tr>\n",
       "    <tr>\n",
       "      <th>...</th>\n",
       "      <td>...</td>\n",
       "      <td>...</td>\n",
       "      <td>...</td>\n",
       "      <td>...</td>\n",
       "    </tr>\n",
       "    <tr>\n",
       "      <th>2545</th>\n",
       "      <td>قضاوت‌‏های امیرمؤمنان حضرت علی علیه‏‌السلام</td>\n",
       "      <td>آنچه به عنوان قضاوت‌های امیرمؤمنان حضرت علی عل...</td>\n",
       "      <td>کلیات اسلام</td>\n",
       "      <td>[قضاوت‌‏های, امیرمؤمنان, حضرت, علی, علیه‏‌السل...</td>\n",
       "    </tr>\n",
       "    <tr>\n",
       "      <th>2546</th>\n",
       "      <td>کراماتی از مهدی موعود(عج)</td>\n",
       "      <td>زینب محمودی پژوهشگر دینی است.\\r\\nدر بخشی از پی...</td>\n",
       "      <td>کلیات اسلام</td>\n",
       "      <td>[کرامات, مهدی, موعود, عج, زینب, محمود, پژوهشگر...</td>\n",
       "    </tr>\n",
       "    <tr>\n",
       "      <th>2547</th>\n",
       "      <td>انتقام، انتقام، انتقام</td>\n",
       "      <td>«انتقام، انتقام، انتقام» داستان‌گونه‌ای با زبا...</td>\n",
       "      <td>داستان کوتاه</td>\n",
       "      <td>[انتقام, انتقام, انتقام, انتقام, انتقام, انتقا...</td>\n",
       "    </tr>\n",
       "    <tr>\n",
       "      <th>2548</th>\n",
       "      <td>آن مرد می‌آید</td>\n",
       "      <td>«آن مرد می‌آید» به قلم سیده‌فاطمه موسوی و به ت...</td>\n",
       "      <td>داستان کودک و نوجوانان</td>\n",
       "      <td>[مرد, مرد, قلم, سیده‌فاطمه, موسوی, تصویرگر, جع...</td>\n",
       "    </tr>\n",
       "    <tr>\n",
       "      <th>2549</th>\n",
       "      <td>امید فردا؛ پاسخ به ۱۱۰ پرسش جوانان درباره امام...</td>\n",
       "      <td>عباس رحیمی(۱۳۲۰-) پژوهشگر دینی است.\\r\\nدر بخشی...</td>\n",
       "      <td>کلیات اسلام</td>\n",
       "      <td>[امید, فردا, پاسخ, ۱۱۰, پرسش, جوان, امام, زمان...</td>\n",
       "    </tr>\n",
       "  </tbody>\n",
       "</table>\n",
       "<p>2550 rows × 4 columns</p>\n",
       "</div>"
      ],
      "text/plain": [
       "                                                  title  \\\n",
       "0                    ساختار نظریه‌های جامعه‌شناسی ایران   \n",
       "1                                  جامعه و فرهنگ کانادا   \n",
       "2                                         پرسش از موعود   \n",
       "3                                             موج، دریا   \n",
       "4                                           پرسش از غرب   \n",
       "...                                                 ...   \n",
       "2545        قضاوت‌‏های امیرمؤمنان حضرت علی علیه‏‌السلام   \n",
       "2546                          کراماتی از مهدی موعود(عج)   \n",
       "2547                             انتقام، انتقام، انتقام   \n",
       "2548                                      آن مرد می‌آید   \n",
       "2549  امید فردا؛ پاسخ به ۱۱۰ پرسش جوانان درباره امام...   \n",
       "\n",
       "                                            description  \\\n",
       "0     «ساختار نظریه‌های جامعه‌شناسی ایران» نوشته ابو...   \n",
       "1     «جامعه و فرهنگ کانادا» از مجموعه کتاب‌های «جام...   \n",
       "2     پرسش‌های مختلفی درباره زندگی و شخصیت امام مهدی...   \n",
       "3     «موج دریا» به قلم مهری ماهوتی (-۱۳۴۰) و تصویرگ...   \n",
       "4     «پرسش از غرب» به قلم دکتر اسماعیل شفیعی سروستا...   \n",
       "...                                                 ...   \n",
       "2545  آنچه به عنوان قضاوت‌های امیرمؤمنان حضرت علی عل...   \n",
       "2546  زینب محمودی پژوهشگر دینی است.\\r\\nدر بخشی از پی...   \n",
       "2547  «انتقام، انتقام، انتقام» داستان‌گونه‌ای با زبا...   \n",
       "2548  «آن مرد می‌آید» به قلم سیده‌فاطمه موسوی و به ت...   \n",
       "2549  عباس رحیمی(۱۳۲۰-) پژوهشگر دینی است.\\r\\nدر بخشی...   \n",
       "\n",
       "                  categories  \\\n",
       "0                جامعه‌شناسی   \n",
       "1                جامعه‌شناسی   \n",
       "2                کلیات اسلام   \n",
       "3     داستان کودک و نوجوانان   \n",
       "4                جامعه‌شناسی   \n",
       "...                      ...   \n",
       "2545             کلیات اسلام   \n",
       "2546             کلیات اسلام   \n",
       "2547            داستان کوتاه   \n",
       "2548  داستان کودک و نوجوانان   \n",
       "2549             کلیات اسلام   \n",
       "\n",
       "                                                  Words  \n",
       "0     [ساختار, نظریه, جامعه‌شناس, ایران, ساختار, نظر...  \n",
       "1     [جامعه, فرهنگ, کانادا, جامعه, فرهنگ, کانادا, م...  \n",
       "2     [پرسش, موعود, پرسش, مختلف, شخصیت, امام, مهدی, ...  \n",
       "3     [موج, دریا, موج, دریا, قلم, مهر, ماهوت, ۱۳۴۰, ...  \n",
       "4     [پرسش, غرب, پرسش, غرب, قلم, دکتر, اسماعیل, شفی...  \n",
       "...                                                 ...  \n",
       "2545  [قضاوت‌‏های, امیرمؤمنان, حضرت, علی, علیه‏‌السل...  \n",
       "2546  [کرامات, مهدی, موعود, عج, زینب, محمود, پژوهشگر...  \n",
       "2547  [انتقام, انتقام, انتقام, انتقام, انتقام, انتقا...  \n",
       "2548  [مرد, مرد, قلم, سیده‌فاطمه, موسوی, تصویرگر, جع...  \n",
       "2549  [امید, فردا, پاسخ, ۱۱۰, پرسش, جوان, امام, زمان...  \n",
       "\n",
       "[2550 rows x 4 columns]"
      ]
     },
     "execution_count": 61,
     "metadata": {},
     "output_type": "execute_result"
    }
   ],
   "source": [
    "new_df"
   ]
  },
  {
   "cell_type": "code",
   "execution_count": 62,
   "metadata": {},
   "outputs": [
    {
     "name": "stdout",
     "output_type": "stream",
     "text": [
      "<class 'pandas.core.frame.DataFrame'>\n",
      "RangeIndex: 2550 entries, 0 to 2549\n",
      "Data columns (total 4 columns):\n",
      " #   Column       Non-Null Count  Dtype \n",
      "---  ------       --------------  ----- \n",
      " 0   title        2550 non-null   object\n",
      " 1   description  2550 non-null   object\n",
      " 2   categories   2550 non-null   object\n",
      " 3   Words        2550 non-null   object\n",
      "dtypes: object(4)\n",
      "memory usage: 79.8+ KB\n"
     ]
    }
   ],
   "source": [
    "new_df.info()"
   ]
  },
  {
   "cell_type": "markdown",
   "metadata": {},
   "source": [
    "# 1:\n",
    "Lemmetizer gives us Bon-e-Maazi and Bon-e-Mozare of a verb in Farsi. Two verbs having the same Bon mostly have the same concept in a sentence and assumed same.On the other hand, Stemmer is not the state-of-the-art. In some words like 'taha', this method assume that 'Ha' ath the end of the word , is an indicator of a group of Ta s(!) which is obvioulsy incorrect. \n"
   ]
  },
  {
   "cell_type": "code",
   "execution_count": 63,
   "metadata": {},
   "outputs": [
    {
     "name": "stdout",
     "output_type": "stream",
     "text": [
      "می خواهم\n",
      "رفت#رو\n",
      "نوشت#نویس\n",
      "طاها\n",
      "رفت#رو\n"
     ]
    }
   ],
   "source": [
    "normalizer = hazm.Normalizer()\n",
    "tokenizer = hazm.WordTokenizer()\n",
    "lemmatizer = hazm.Lemmatizer()\n",
    "stemmer = Stemmer()\n",
    "print(lemmatizer.lemmatize('می خواهم'))\n",
    "print(lemmatizer.lemmatize('رفتیم'))\n",
    "print(lemmatizer.lemmatize('نوشتند'))\n",
    "print(lemmatizer.lemmatize('طاها'))\n",
    "print(lemmatizer.lemmatize('رفتم'))"
   ]
  },
  {
   "cell_type": "code",
   "execution_count": 64,
   "metadata": {},
   "outputs": [
    {
     "name": "stdout",
     "output_type": "stream",
     "text": [
      "رف\n",
      "کتاب \n",
      "طا\n",
      "درخ\n",
      "بسیار\n"
     ]
    }
   ],
   "source": [
    "print(stemmer.stem('رفتم'))\n",
    "print(stemmer.stem('کتاب ها'))\n",
    "print(stemmer.stem('طاها'))\n",
    "print(stemmer.stem('درختان'))\n",
    "print(stemmer.stem('بسیار'))"
   ]
  },
  {
   "cell_type": "code",
   "execution_count": null,
   "metadata": {},
   "outputs": [],
   "source": []
  },
  {
   "cell_type": "markdown",
   "metadata": {},
   "source": [
    "# 2:\n",
    "$$ p(c|x) = \\frac{p(x|c)p(c)}{p(x)} $$\n",
    "\n",
    "in the formula above, x is the word appearance, c is the book category and  we have:\n",
    "\n",
    "$$ p(c|x) = p(x_1|c).p(x_2|c)...p(x_n|c).p(c) $$\n",
    "\n",
    "\n",
    "$P(x|c)$ is the probability of seeing word x in a book category's description of type c **(Likelihood)**\n",
    "\n",
    "$P(c|x)$ : is the probability of the current book category being c knowing that the word x has appeared in the title. **(Posterior)**\n",
    "\n",
    "$P(c)$ is the probability of seeing a book with category c which is equal for all categories. **(Class Prior Probability)**\n",
    "\n",
    "$P(x)$ is the probability of seeing a word **(Predictor Prior Probability)**\n",
    "\n",
    "Also we may have some determined conditional variables which are our indicator, in this assignment, the books are most frequent in each categories. **(Evidence)**\n",
    "\n"
   ]
  },
  {
   "cell_type": "markdown",
   "metadata": {},
   "source": [
    "# 3:\n",
    "**Bigrams** could also be used to increase accuracy. Here we only consider a word by itself without paying attention to its adjacent word.(**Unigrams**)\n",
    "\n",
    "1:\n",
    "1-1- این شال به رنگ سبز سیر است.\n",
    "1-2- من سیر هستم و ناهار نمی خورم.\n",
    "\n",
    "\n",
    "In the first sentence, the word سیر means the density of a color but oj the second sentece, it means not hungry.Therefore, these two sentences have completely different concepts and are from different categories.\n",
    "\n",
    "2 :\n",
    "2-1 - علی خانه را ترک کرد\n",
    "2-2- این دیوار دارای ترک است.\n",
    "2-3 - او از نژاد ترک است.\n",
    "All these three senctences , have the word ترک , but each one has a diffrent pronounciation which brings about different meanings.\n",
    "\n",
    "in these sentences , we need more than 2 adjacent words to classify the sentence correctly( trigram or more)."
   ]
  },
  {
   "cell_type": "markdown",
   "metadata": {},
   "source": [
    "# 4:\n",
    "\n",
    "In case that there is word contained only one type of category, Naive Bayes will definetly choose that category as the answer which might be wrong in some cases.\n",
    "If a word in a book does not be in its category , its joint probability with other word on that category will be 0 and in consequence the similarity between other words will be ignored which is not fruitful.\n",
    "It is good to be mentioned that we use the sum of logs instead of productions.\n",
    "\n",
    "\n",
    "\n"
   ]
  },
  {
   "cell_type": "markdown",
   "metadata": {},
   "source": [
    "# 5:\n",
    "For words which are not in the group words of a category, we shoulf consider a minimum amount so they will not destroy other joint probabilities. in The additive smoothing we have :\n",
    "$$ \\frac{x_i + \\alpha}{N + \\alpha.D} $$\n",
    " instead of : $$ \\frac{x_i }{N}$$\n",
    " \n",
    " N is the total words, D is the number of distinct words in a category and  $\\alpha$ is  a positive constant(here 0.1)\n",
    " so that porportion will not be zero at all and we can observe that our accuracy rechas to more than 80  percent. \n",
    " This is because the fact that wee have many words in the test dataset which are not seen before on the same category in train dataset, is so probable."
   ]
  },
  {
   "cell_type": "code",
   "execution_count": 65,
   "metadata": {},
   "outputs": [],
   "source": [
    "novel_title = dict()\n",
    "sociology_title = dict()\n",
    "islamic_title = dict()\n",
    "short_story_title = dict()\n",
    "kids_title = dict()\n",
    "business_title = dict()\n",
    "\n",
    "total_novel_title =total_sociology_title = total_islamic_title =total_short_story_title = total_kids_title =total_business_title= 0\n",
    "\n",
    "\n",
    "for index, row in new_df.iterrows():\n",
    "    tokens = row['Words']\n",
    "    for token in tokens:\n",
    "        word = lemmatizer.lemmatize(token)\n",
    "            \n",
    "        cat = row['categories']\n",
    "\n",
    "        if (cat == 'رمان'):\n",
    "            if(word in novel_title.keys()):\n",
    "                novel_title[word]+= 1\n",
    "            else:\n",
    "                novel_title[word] = 1\n",
    "            total_novel_title += 1\n",
    "\n",
    "        if (cat == 'جامعه‌شناسی'):\n",
    "            if(word in sociology_title.keys()):\n",
    "                sociology_title[word]+= 1\n",
    "            else:\n",
    "                sociology_title[word] = 1\n",
    "            total_sociology_title += 1\n",
    "\n",
    "        if (cat == 'کلیات اسلام'):\n",
    "            if(word in islamic_title.keys()):\n",
    "                islamic_title[word]+= 1\n",
    "            else:\n",
    "                islamic_title[word] = 1\n",
    "            total_islamic_title += 1\n",
    "\n",
    "        if (cat == 'داستان کوتاه'):\n",
    "            if(word in short_story_title.keys()):\n",
    "                short_story_title[word]+= 1\n",
    "            else:\n",
    "                short_story_title[word] = 1\n",
    "            total_short_story_title += 1\n",
    "\n",
    "        if (cat == 'داستان کودک و نوجوانان'):\n",
    "            if(word in kids_title.keys()):\n",
    "                kids_title[word]+= 1\n",
    "            else:\n",
    "                kids_title[word] = 1\n",
    "            total_kids_title += 1\n",
    "\n",
    "        if (cat == 'مدیریت و کسب و کار'):\n",
    "            if(word in business_title.keys()):\n",
    "                business_title[word]+= 1\n",
    "            else:\n",
    "                business_title[word] = 1\n",
    "            total_business_title += 1\n"
   ]
  },
  {
   "cell_type": "code",
   "execution_count": 66,
   "metadata": {},
   "outputs": [
    {
     "name": "stdout",
     "output_type": "stream",
     "text": [
      "Requirement already satisfied: arabic-reshaper in c:\\users\\asus\\anaconda3\\lib\\site-packages (2.1.3)\n",
      "Requirement already satisfied: future in c:\\users\\asus\\anaconda3\\lib\\site-packages (from arabic-reshaper) (0.18.2)\n",
      "Requirement already satisfied: setuptools in c:\\users\\asus\\anaconda3\\lib\\site-packages (from arabic-reshaper) (49.2.0.post20200714)\n",
      "Requirement already satisfied: python-bidi in c:\\users\\asus\\anaconda3\\lib\\site-packages (0.4.2)\n",
      "Requirement already satisfied: six in c:\\users\\asus\\anaconda3\\lib\\site-packages (from python-bidi) (1.15.0)\n"
     ]
    }
   ],
   "source": [
    "!pip install arabic-reshaper\n",
    "!pip install python-bidi\n",
    "import arabic_reshaper\n",
    "from bidi.algorithm import get_display"
   ]
  },
  {
   "cell_type": "code",
   "execution_count": 67,
   "metadata": {},
   "outputs": [],
   "source": [
    "def to_arabic(text):\n",
    "    return get_display(\n",
    "      arabic_reshaper.reshape(u'%s' % text)\n",
    "  )"
   ]
  },
  {
   "cell_type": "code",
   "execution_count": null,
   "metadata": {},
   "outputs": [],
   "source": []
  },
  {
   "cell_type": "code",
   "execution_count": null,
   "metadata": {},
   "outputs": [],
   "source": []
  },
  {
   "cell_type": "markdown",
   "metadata": {},
   "source": [
    "# 6:"
   ]
  },
  {
   "cell_type": "code",
   "execution_count": 68,
   "metadata": {},
   "outputs": [],
   "source": [
    "from matplotlib import pyplot as plt\n"
   ]
  },
  {
   "cell_type": "code",
   "execution_count": 69,
   "metadata": {},
   "outputs": [
    {
     "data": {
      "image/png": "[encoded data removed]",
      "text/plain": [
       "<Figure size 432x288 with 1 Axes>"
      ]
     },
     "metadata": {
      "needs_background": "light"
     },
     "output_type": "display_data"
    },
    {
     "data": {
      "image/png": "[encoded data removed]",
      "text/plain": [
       "<Figure size 432x288 with 1 Axes>"
      ]
     },
     "metadata": {
      "needs_background": "light"
     },
     "output_type": "display_data"
    },
    {
     "data": {
      "image/png": "[encoded data removed]",
      "text/plain": [
       "<Figure size 432x288 with 1 Axes>"
      ]
     },
     "metadata": {
      "needs_background": "light"
     },
     "output_type": "display_data"
    },
    {
     "data": {
      "image/png": "[encoded data removed]",
      "text/plain": [
       "<Figure size 432x288 with 1 Axes>"
      ]
     },
     "metadata": {
      "needs_background": "light"
     },
     "output_type": "display_data"
    },
    {
     "data": {
      "image/png": "[encoded data removed]",
      "text/plain": [
       "<Figure size 432x288 with 1 Axes>"
      ]
     },
     "metadata": {
      "needs_background": "light"
     },
     "output_type": "display_data"
    },
    {
     "data": {
      "image/png": "[encoded data removed]",
      "text/plain": [
       "<Figure size 432x288 with 1 Axes>"
      ]
     },
     "metadata": {
      "needs_background": "light"
     },
     "output_type": "display_data"
    }
   ],
   "source": [
    "ll = [novel_title ,\n",
    "sociology_title ,\n",
    "islamic_title,\n",
    "short_story_title ,\n",
    "kids_title ,\n",
    "business_title]\n",
    "cats = ['رمان', 'جامعه‌شناسی', 'کلیات اسلام', 'داستان کوتاه', 'داستان کودک و نوجوانان', 'مدیریت و کسب و کار']\n",
    "for i in range(len(ll)):\n",
    "    srtd = dict(sorted(ll[i].items(), key = lambda item: item[1], reverse = True)[:5])\n",
    "    plt.bar(srtd.keys() , srtd.values())\n",
    "    plt.title(to_arabic(cats[i]))\n",
    "    plt.show()\n",
    "    "
   ]
  },
  {
   "cell_type": "markdown",
   "metadata": {},
   "source": []
  },
  {
   "cell_type": "code",
   "execution_count": null,
   "metadata": {},
   "outputs": [],
   "source": []
  },
  {
   "cell_type": "code",
   "execution_count": null,
   "metadata": {},
   "outputs": [],
   "source": []
  },
  {
   "cell_type": "code",
   "execution_count": null,
   "metadata": {},
   "outputs": [],
   "source": []
  },
  {
   "cell_type": "code",
   "execution_count": 70,
   "metadata": {},
   "outputs": [
    {
     "data": {
      "text/html": [
       "<div>\n",
       "<style scoped>\n",
       "    .dataframe tbody tr th:only-of-type {\n",
       "        vertical-align: middle;\n",
       "    }\n",
       "\n",
       "    .dataframe tbody tr th {\n",
       "        vertical-align: top;\n",
       "    }\n",
       "\n",
       "    .dataframe thead th {\n",
       "        text-align: right;\n",
       "    }\n",
       "</style>\n",
       "<table border=\"1\" class=\"dataframe\">\n",
       "  <thead>\n",
       "    <tr style=\"text-align: right;\">\n",
       "      <th></th>\n",
       "      <th>title</th>\n",
       "      <th>description</th>\n",
       "      <th>categories</th>\n",
       "    </tr>\n",
       "  </thead>\n",
       "  <tbody>\n",
       "    <tr>\n",
       "      <th>0</th>\n",
       "      <td>کآشوب</td>\n",
       "      <td>«کآشوب (بیست و سه روایت از روضه‌هایی که زندگی ...</td>\n",
       "      <td>داستان کوتاه</td>\n",
       "    </tr>\n",
       "    <tr>\n",
       "      <th>1</th>\n",
       "      <td>داستان‌های برق‌آسا</td>\n",
       "      <td>«داستان‌های برق‌آسا» نام مجموعه داستان‌هایی به...</td>\n",
       "      <td>داستان کوتاه</td>\n",
       "    </tr>\n",
       "    <tr>\n",
       "      <th>2</th>\n",
       "      <td>بحثی درباره مرجعیت و روحانیت</td>\n",
       "      <td>مجموعه مقالات «بحثی درباره مرجعیت و روحانیت» ش...</td>\n",
       "      <td>کلیات اسلام</td>\n",
       "    </tr>\n",
       "    <tr>\n",
       "      <th>3</th>\n",
       "      <td>قلعه‌ی حیوانات</td>\n",
       "      <td>«قلعه‌ی حیوانات» جورج اورول، درباره گروهی از ح...</td>\n",
       "      <td>رمان</td>\n",
       "    </tr>\n",
       "    <tr>\n",
       "      <th>4</th>\n",
       "      <td>قصه ما مثل شد (۱)</td>\n",
       "      <td>«قصه ما مثل شد» یک مجموعه کتاب ۵ جلدی است که د...</td>\n",
       "      <td>داستان کودک و نوجوانان</td>\n",
       "    </tr>\n",
       "    <tr>\n",
       "      <th>...</th>\n",
       "      <td>...</td>\n",
       "      <td>...</td>\n",
       "      <td>...</td>\n",
       "    </tr>\n",
       "    <tr>\n",
       "      <th>445</th>\n",
       "      <td>سیره اقتصادی امام علی (ع)</td>\n",
       "      <td>«سیرۀ اقتصادی امام علی (ع)» نوشته سید رضا حسین...</td>\n",
       "      <td>کلیات اسلام</td>\n",
       "    </tr>\n",
       "    <tr>\n",
       "      <th>446</th>\n",
       "      <td>تفنگ پدر بر بام‌های تهران</td>\n",
       "      <td>از روی بام رفته بودیم بر بامی دیگر و رسیده بود...</td>\n",
       "      <td>رمان</td>\n",
       "    </tr>\n",
       "    <tr>\n",
       "      <th>447</th>\n",
       "      <td>اصالت من</td>\n",
       "      <td>«اصالت من» نوشته داریوش قاسمیان دستجردی(۱۳۳۹) ...</td>\n",
       "      <td>جامعه‌شناسی</td>\n",
       "    </tr>\n",
       "    <tr>\n",
       "      <th>448</th>\n",
       "      <td>تأمین مالی آموزش و پرورش در ایران</td>\n",
       "      <td>تأمین مالی آموزش و پرورش عمومی فرآیندی است که ...</td>\n",
       "      <td>جامعه‌شناسی</td>\n",
       "    </tr>\n",
       "    <tr>\n",
       "      <th>449</th>\n",
       "      <td>جایی که ماه نیست (شوک سقوط)</td>\n",
       "      <td>نیتان فایلر، نویسنده انگلیسی است.\\r\\n«جایی که ...</td>\n",
       "      <td>رمان</td>\n",
       "    </tr>\n",
       "  </tbody>\n",
       "</table>\n",
       "<p>450 rows × 3 columns</p>\n",
       "</div>"
      ],
      "text/plain": [
       "                                 title  \\\n",
       "0                                کآشوب   \n",
       "1                   داستان‌های برق‌آسا   \n",
       "2         بحثی درباره مرجعیت و روحانیت   \n",
       "3                       قلعه‌ی حیوانات   \n",
       "4                    قصه ما مثل شد (۱)   \n",
       "..                                 ...   \n",
       "445          سیره اقتصادی امام علی (ع)   \n",
       "446          تفنگ پدر بر بام‌های تهران   \n",
       "447                           اصالت من   \n",
       "448  تأمین مالی آموزش و پرورش در ایران   \n",
       "449        جایی که ماه نیست (شوک سقوط)   \n",
       "\n",
       "                                           description              categories  \n",
       "0    «کآشوب (بیست و سه روایت از روضه‌هایی که زندگی ...            داستان کوتاه  \n",
       "1    «داستان‌های برق‌آسا» نام مجموعه داستان‌هایی به...            داستان کوتاه  \n",
       "2    مجموعه مقالات «بحثی درباره مرجعیت و روحانیت» ش...             کلیات اسلام  \n",
       "3    «قلعه‌ی حیوانات» جورج اورول، درباره گروهی از ح...                    رمان  \n",
       "4    «قصه ما مثل شد» یک مجموعه کتاب ۵ جلدی است که د...  داستان کودک و نوجوانان  \n",
       "..                                                 ...                     ...  \n",
       "445  «سیرۀ اقتصادی امام علی (ع)» نوشته سید رضا حسین...             کلیات اسلام  \n",
       "446  از روی بام رفته بودیم بر بامی دیگر و رسیده بود...                    رمان  \n",
       "447  «اصالت من» نوشته داریوش قاسمیان دستجردی(۱۳۳۹) ...             جامعه‌شناسی  \n",
       "448  تأمین مالی آموزش و پرورش عمومی فرآیندی است که ...             جامعه‌شناسی  \n",
       "449  نیتان فایلر، نویسنده انگلیسی است.\\r\\n«جایی که ...                    رمان  \n",
       "\n",
       "[450 rows x 3 columns]"
      ]
     },
     "execution_count": 70,
     "metadata": {},
     "output_type": "execute_result"
    }
   ],
   "source": [
    "test_df"
   ]
  },
  {
   "cell_type": "code",
   "execution_count": 71,
   "metadata": {},
   "outputs": [
    {
     "data": {
      "text/plain": [
       "3000"
      ]
     },
     "execution_count": 71,
     "metadata": {},
     "output_type": "execute_result"
    }
   ],
   "source": [
    "import operator\n",
    "stats = {'a':1000, 'b':3000, 'c': 100, 'd':3000}\n",
    "key , value = max(stats.items(), key=operator.itemgetter(1))\n",
    "stats[key]"
   ]
  },
  {
   "cell_type": "code",
   "execution_count": 72,
   "metadata": {},
   "outputs": [
    {
     "name": "stdout",
     "output_type": "stream",
     "text": [
      "Accuracy is  0.6822222222222222\n",
      "category :  رمان\n",
      "True Positive :  60\n",
      "False Positive :  60\n",
      "False Negative :  15\n",
      "Precision: 0.5\n",
      "Recall: 0.8\n",
      "F1-score: 0.6153846153846154\n",
      "\n",
      "\n",
      "category :  جامعه‌شناسی\n",
      "True Positive :  63\n",
      "False Positive :  39\n",
      "False Negative :  12\n",
      "Precision: 0.6176470588235294\n",
      "Recall: 0.84\n",
      "F1-score: 0.711864406779661\n",
      "\n",
      "\n",
      "category :  کلیات اسلام\n",
      "True Positive :  57\n",
      "False Positive :  3\n",
      "False Negative :  18\n",
      "Precision: 0.95\n",
      "Recall: 0.76\n",
      "F1-score: 0.8444444444444444\n",
      "\n",
      "\n",
      "category :  داستان کوتاه\n",
      "True Positive :  35\n",
      "False Positive :  33\n",
      "False Negative :  40\n",
      "Precision: 0.5147058823529411\n",
      "Recall: 0.4666666666666667\n",
      "F1-score: 0.4895104895104895\n",
      "\n",
      "\n",
      "category :  داستان کودک و نوجوانان\n",
      "True Positive :  43\n",
      "False Positive :  4\n",
      "False Negative :  32\n",
      "Precision: 0.9148936170212766\n",
      "Recall: 0.5733333333333334\n",
      "F1-score: 0.7049180327868853\n",
      "\n",
      "\n",
      "category :  مدیریت و کسب و کار\n",
      "True Positive :  49\n",
      "False Positive :  4\n",
      "False Negative :  26\n",
      "Precision: 0.9245283018867925\n",
      "Recall: 0.6533333333333333\n",
      "F1-score: 0.765625\n",
      "\n",
      "\n"
     ]
    }
   ],
   "source": [
    "catts = ['رمان', 'جامعه‌شناسی', 'کلیات اسلام', 'داستان کوتاه', 'داستان کودک و نوجوانان', 'مدیریت و کسب و کار']\n",
    "def getCat(a,b):\n",
    "    if(b ==1):\n",
    "        return catts.index(a)\n",
    "    else:\n",
    "        return catts[a]\n",
    "\n",
    "StopWords = set(hazm.utils.stopwords_list())\n",
    "StopWords = StopWords.union({'کتاب', 'زندگی','توانستن#توان' ,'کرد#کن' , '؟',':','...', '....' , 'ی','ای',',','،','(',')',':',';','-','_','.','/','+','=','?','\\r','\\n' ,'[',']' ,'؛' , '«', '»','…', '\"' ,'!','#'})\n",
    "commons ={'سر','شد#شو','کتاب','داستان', 'زندگی', 'کرد#کن' , '؟' , 'توانست#توان',  'خواند#خوان' ,'زد#زن' ,'گفت#گو', 'جلد','داشت#دار' , 'رفت#رو'}\n",
    "commons = commons.union(StopWords)\n",
    "\n",
    "\n",
    "from math import log\n",
    "\n",
    "neg_inf = -500 \n",
    "\n",
    "def calcProbsWithoutSmoothing(phrase):\n",
    "    phrase = normalizer.affix_spacing(phrase)\n",
    "    tokens = word_tokenize(phrase)\n",
    "\n",
    "    categories = {'novel_cnt':0 ,  'social_cnt' :0 ,'kid_cnt' :0 , 'sstory_cnt' :0 , 'islam_cnt' :0 ,  'business_cnt' : 0}\n",
    "    indexes = {'novel_cnt':0 ,  'social_cnt' :1 ,'kid_cnt' :2 , 'sstory_cnt' :3 , 'islam_cnt' :4 ,  'business_cnt' : 5}\n",
    "\n",
    "    for token in tokens:\n",
    "\n",
    "        word = lemmatizer.lemmatize(token)\n",
    "\n",
    "        if (word not in commons):\n",
    "#             continue\n",
    "            \n",
    "\n",
    "            if (word in novel_title):\n",
    "                categories['novel_cnt']+= log((novel_title[word]) / (total_novel_title))\n",
    "            else:\n",
    "                categories['novel_cnt']+= neg_inf \n",
    "\n",
    "\n",
    "            if (word in sociology_title):\n",
    "                categories['social_cnt'] += log((sociology_title[word]) / (total_sociology_title)) \n",
    "            else:\n",
    "                categories['social_cnt'] += neg_inf \n",
    "\n",
    "\n",
    "            if (word  in islamic_title):\n",
    "                categories['kid_cnt'] += log((islamic_title[word]) / (total_islamic_title)) \n",
    "            else:\n",
    "                categories['kid_cnt'] += neg_inf \n",
    "\n",
    "\n",
    "            if (word in short_story_title):\n",
    "                categories['sstory_cnt'] += log((short_story_title[word]) / (total_short_story_title)) \n",
    "            else:\n",
    "                categories['sstory_cnt'] += neg_inf \n",
    "\n",
    "\n",
    "            if (word in kids_title):\n",
    "                categories['islam_cnt'] += log((kids_title[word]) / (total_kids_title)) \n",
    "            else:\n",
    "                categories['islam_cnt'] += neg_inf \n",
    "\n",
    "\n",
    "            if (word in business_title):\n",
    "                categories['business_cnt'] += log((business_title[word]) / (total_business_title)) \n",
    "            else:\n",
    "                categories['business_cnt'] += neg_inf\n",
    "            \n",
    "            key , value = max(categories.items(), key=operator.itemgetter(1))\n",
    "    return indexes[key] , value\n",
    "\n",
    "cc = []\n",
    "dd = []\n",
    "\n",
    "tp = [0, 0, 0, 0, 0, 0]\n",
    "fp = [0, 0, 0, 0, 0, 0]\n",
    "fn = [0, 0, 0, 0, 0, 0]\n",
    "correct = 0\n",
    "\n",
    "for index, row in test_df.iterrows():\n",
    "    \n",
    "    detect , mx = calcProbsWithoutSmoothing(row['description'])\n",
    "    dd.append(detect)\n",
    "    category = getCat(row['categories'] ,1)\n",
    "    cc.append(category)\n",
    "    if(category == detect):\n",
    "        correct+=1\n",
    "\n",
    "        tp[detect] += 1\n",
    "    else:\n",
    "        fp[detect] += 1\n",
    "        fn[category] += 1\n",
    "\n",
    "f1_sum =0\n",
    "per_sum =0\n",
    "rec_sum =0\n",
    "\n",
    "\n",
    "print(\"Accuracy is \", correct / len(test_df))\n",
    "\n",
    "for i in range(6):\n",
    "    num = tp[i]\n",
    "    denum_1 = tp[i] + fp[i]\n",
    "    denum_2 = tp[i] + fn[i]\n",
    "    precision = num / denum_1\n",
    "    recall = num / denum_2\n",
    "    f1 = 2 *( precision * recall) / (precision + recall)\n",
    "    f1_sum += f1\n",
    "    per_sum +=precision\n",
    "    rec_sum +=recall\n",
    "    print(\"category : \", getCat(i,22))\n",
    "    print(\"True Positive : \", tp[i])\n",
    "    print(\"False Positive : \", fp[i])\n",
    "    print(\"False Negative : \", fn[i])\n",
    "    print(\"Precision:\", precision)\n",
    "    print(\"Recall:\", recall)\n",
    "    print(\"F1-score:\", f1)\n",
    "    print('\\n')\n",
    "    "
   ]
  },
  {
   "cell_type": "code",
   "execution_count": 73,
   "metadata": {},
   "outputs": [
    {
     "name": "stdout",
     "output_type": "stream",
     "text": [
      "precision sum: 4.42177486008454\n",
      "recall sum: 4.093333333333334\n",
      "f1-score sum: 4.131746988906096\n"
     ]
    }
   ],
   "source": [
    "print(\"precision sum:\", per_sum)\n",
    "print(\"recall sum:\", rec_sum)\n",
    "print(\"f1-score sum:\", f1_sum)\n"
   ]
  },
  {
   "cell_type": "code",
   "execution_count": 74,
   "metadata": {},
   "outputs": [],
   "source": [
    "from sklearn.metrics import classification_report"
   ]
  },
  {
   "cell_type": "code",
   "execution_count": 75,
   "metadata": {},
   "outputs": [
    {
     "name": "stdout",
     "output_type": "stream",
     "text": [
      "              precision    recall  f1-score   support\n",
      "\n",
      "           0       0.50      0.80      0.62        75\n",
      "           1       0.62      0.84      0.71        75\n",
      "           2       0.95      0.76      0.84        75\n",
      "           3       0.51      0.47      0.49        75\n",
      "           4       0.91      0.57      0.70        75\n",
      "           5       0.92      0.65      0.77        75\n",
      "\n",
      "    accuracy                           0.68       450\n",
      "   macro avg       0.74      0.68      0.69       450\n",
      "weighted avg       0.74      0.68      0.69       450\n",
      "\n"
     ]
    }
   ],
   "source": [
    "print(classification_report(cc, dd))"
   ]
  },
  {
   "cell_type": "code",
   "execution_count": null,
   "metadata": {},
   "outputs": [],
   "source": []
  },
  {
   "cell_type": "code",
   "execution_count": 77,
   "metadata": {},
   "outputs": [],
   "source": [
    "StopWords = set(hazm.utils.stopwords_list())\n",
    "StopWords = StopWords.union({'کتاب', 'زندگی','توانستن#توان' ,'کرد#کن' , '؟',':','...', '....' , 'ی','ای',',','،','(',')',':',';','-','_','.','/','+','=','?','\\r','\\n' ,'[',']' ,'؛' , '«', '»','…', '\"' ,'!','#'})\n",
    "commons ={'سر','شد#شو','کتاب','داستان', 'زندگی', 'کرد#کن' , '؟' , 'توانست#توان',  'خواند#خوان' ,'زد#زن' ,'گفت#گو', 'جلد','داشت#دار' , 'رفت#رو'}\n",
    "commons = commons.union(StopWords)\n",
    "\n",
    "def calcProbsWithSmoothing(phrase):\n",
    "    phrase = normalizer.affix_spacing(phrase)\n",
    "    tokens = word_tokenize(phrase)\n",
    "    categories = {'novel_cnt':0 ,  'social_cnt' :0 ,'kid_cnt' :0 , 'sstory_cnt' :0 , 'islam_cnt' :0 ,  'business_cnt' : 0}\n",
    "    indexes = {'novel_cnt':0 ,  'social_cnt' :1 ,'kid_cnt' :2 , 'sstory_cnt' :3 , 'islam_cnt' :4 ,  'business_cnt' : 5}\n",
    "\n",
    "    alpha = 0.1\n",
    "\n",
    "    for token in tokens:\n",
    "\n",
    "        word = lemmatizer.lemmatize(token)\n",
    "        \n",
    "        if (word not in commons):\n",
    "\n",
    "            categories['novel_cnt'] += log((novel_title.get(word, 0) +  alpha) / (total_novel_title +  alpha * len(list(novel_title.keys()))))\n",
    "\n",
    "            categories['social_cnt'] += log((sociology_title.get(word, 0) +  alpha) / (total_sociology_title +  alpha *len(list(sociology_title.keys()))))\n",
    "\n",
    "            categories['kid_cnt'] += log((islamic_title.get(word, 0) +  alpha) / (total_islamic_title +  alpha * len(list(islamic_title.keys()))))\n",
    "\n",
    "            categories['sstory_cnt']+= log((short_story_title.get(word, 0) +  alpha) / (total_short_story_title +  alpha * len(list(short_story_title.keys()))))\n",
    "\n",
    "            categories['islam_cnt'] += log((kids_title.get(word, 0) +  alpha) / (total_kids_title +  alpha *len(list(kids_title.keys()))))\n",
    "\n",
    "            categories['business_cnt'] += log((business_title.get(word, 0) +  alpha) / (total_business_title +  alpha * len(list(kids_title.keys()))))\n",
    "            \n",
    "            key , value = max(categories.items(), key=operator.itemgetter(1))\n",
    "    return indexes[key] , value\n",
    "\n",
    "tp = [0, 0, 0, 0, 0, 0]\n",
    "fp = [0, 0, 0, 0, 0, 0]\n",
    "fn = [0, 0, 0, 0, 0, 0]\n",
    "correct = 0\n",
    "\n",
    "misses = []\n",
    "p_misses = []\n",
    "cc = []\n",
    "dd = []\n",
    "import random\n",
    "for index, row in test_df.iterrows():\n",
    "    \n",
    "    detect , mx = calcProbsWithSmoothing(row['description'])\n",
    "    dd.append(detect)\n",
    "    category = getCat(row['categories'] ,1)\n",
    "    cc.append(category)\n",
    "    if(category == detect):\n",
    "        correct+=1\n",
    "        tp[detect] += 1\n",
    "    else:\n",
    "        fp[detect] += 1\n",
    "        fn[category] += 1\n",
    "        \n",
    "        misses.append(row)\n",
    "        p_misses.append(detect)\n",
    "\n",
    "\n",
    "    "
   ]
  },
  {
   "cell_type": "code",
   "execution_count": 78,
   "metadata": {},
   "outputs": [
    {
     "name": "stdout",
     "output_type": "stream",
     "text": [
      "Accuracy : 0.8155555555555556\n",
      "category :  رمان\n",
      "True Positive :  52\n",
      "False Positive :  14\n",
      "False Negative :  23\n",
      "Precision: 0.7878787878787878\n",
      "Recall: 0.6933333333333334\n",
      "F1-score: 0.7375886524822695\n",
      "\n",
      "\n",
      "category :  جامعه‌شناسی\n",
      "True Positive :  65\n",
      "False Positive :  17\n",
      "False Negative :  10\n",
      "Precision: 0.7926829268292683\n",
      "Recall: 0.8666666666666667\n",
      "F1-score: 0.8280254777070064\n",
      "\n",
      "\n",
      "category :  کلیات اسلام\n",
      "True Positive :  61\n",
      "False Positive :  5\n",
      "False Negative :  14\n",
      "Precision: 0.9242424242424242\n",
      "Recall: 0.8133333333333334\n",
      "F1-score: 0.8652482269503545\n",
      "\n",
      "\n",
      "category :  داستان کوتاه\n",
      "True Positive :  53\n",
      "False Positive :  22\n",
      "False Negative :  22\n",
      "Precision: 0.7066666666666667\n",
      "Recall: 0.7066666666666667\n",
      "F1-score: 0.7066666666666667\n",
      "\n",
      "\n",
      "category :  داستان کودک و نوجوانان\n",
      "True Positive :  66\n",
      "False Positive :  18\n",
      "False Negative :  9\n",
      "Precision: 0.7857142857142857\n",
      "Recall: 0.88\n",
      "F1-score: 0.830188679245283\n",
      "\n",
      "\n",
      "category :  مدیریت و کسب و کار\n",
      "True Positive :  70\n",
      "False Positive :  7\n",
      "False Negative :  5\n",
      "Precision: 0.9090909090909091\n",
      "Recall: 0.9333333333333333\n",
      "F1-score: 0.9210526315789475\n",
      "\n",
      "\n"
     ]
    }
   ],
   "source": [
    "f1_sum= 0\n",
    "per_sum = 0\n",
    "rec_sum = 0\n",
    "\n",
    "print(\"Accuracy :\", correct / len(test_df))\n",
    "\n",
    "for i in range(6):\n",
    "    num = tp[i]\n",
    "    denum_1 = tp[i] + fp[i]\n",
    "    denum_2 = tp[i] + fn[i]\n",
    "    precision = num / denum_1\n",
    "    recall = num / denum_2\n",
    "    f1 = 2 *( precision * recall) / (precision + recall)\n",
    "    f1_sum += f1\n",
    "    per_sum +=precision\n",
    "    rec_sum +=recall\n",
    "    print(\"category : \", getCat(i,22))\n",
    "    print(\"True Positive : \", tp[i])\n",
    "    print(\"False Positive : \", fp[i])\n",
    "    print(\"False Negative : \", fn[i])\n",
    "    print(\"Precision:\", precision)\n",
    "    print(\"Recall:\", recall)\n",
    "    print(\"F1-score:\", f1)\n",
    "    print('\\n')\n",
    "    "
   ]
  },
  {
   "cell_type": "code",
   "execution_count": 79,
   "metadata": {},
   "outputs": [
    {
     "name": "stdout",
     "output_type": "stream",
     "text": [
      "precision sum: 4.906276000422341\n",
      "recall sum: 4.8933333333333335\n",
      "f1-score sum: 4.888770334630527\n"
     ]
    }
   ],
   "source": [
    "print(\"precision sum:\", per_sum)\n",
    "print(\"recall sum:\", rec_sum)\n",
    "print(\"f1-score sum:\", f1_sum)"
   ]
  },
  {
   "cell_type": "code",
   "execution_count": 80,
   "metadata": {},
   "outputs": [
    {
     "name": "stdout",
     "output_type": "stream",
     "text": [
      "              precision    recall  f1-score   support\n",
      "\n",
      "           0       0.79      0.69      0.74        75\n",
      "           1       0.79      0.87      0.83        75\n",
      "           2       0.92      0.81      0.87        75\n",
      "           3       0.71      0.71      0.71        75\n",
      "           4       0.79      0.88      0.83        75\n",
      "           5       0.91      0.93      0.92        75\n",
      "\n",
      "    accuracy                           0.82       450\n",
      "   macro avg       0.82      0.82      0.81       450\n",
      "weighted avg       0.82      0.82      0.81       450\n",
      "\n"
     ]
    }
   ],
   "source": [
    "print(classification_report(cc, dd))"
   ]
  },
  {
   "cell_type": "markdown",
   "metadata": {},
   "source": [
    "# 7 :\n",
    "It can be seen that the \"percision\" of the \"sociology\" class is less than its \"recall\". The reason for this is that this classifier places a large number of test data books in the \"sociology\" category, but they are not related to it (so percision decreases). However, it does put a lot of books that belong to this category in the same category (so recall increases). In fact, it can be said that this classifier has some bias compared to that class. This reduces the accuracy of the classification.\n",
    "\n",
    "In contrast, because the description words of each \"islamic\" can be found among the description words of each book, a number of \"islamic\" are mistakenly placed in another class, which reduces the coverage of this class. On the other hand, among the books he included in this class were an acceptable number of \"islamics.\" Therefore, the classification percision  of this class is higher. Therefore, it can be said that the percision  and coverage values of each class alone are not sufficient to evaluate the model, and each shows a part of the model performance."
   ]
  },
  {
   "cell_type": "markdown",
   "metadata": {},
   "source": [
    "# 8 :\n",
    "\n",
    "**F1 Score** is the harmonic mean of Precision and Recall. Therefore, this score takes both false positives and false negatives into account. Intuitively it is not as easy to understand as accuracy, but F1 is usually more useful than accuracy, especially if you have an uneven class distribution. Accuracy works best if false positives and false negatives have similar cost. If the cost of false positives and false negatives are very different, it is better to look at both Precision and Recall.\n",
    "\n",
    "\n",
    "$$F_{1} = 2.\\frac{(Precision.Recall)}{Precision + Recall} = \\frac{TP}{TP + \\frac{FP + FN}{2}}$$\n",
    "\n",
    "$$Precision = \\frac{TP}{TP + FP}$$\n",
    "\n",
    "$$Recall = \\frac{TP}{TP + FN}$$"
   ]
  },
  {
   "cell_type": "markdown",
   "metadata": {},
   "source": [
    "# 9 : \n",
    "**Macro**:\n",
    "\n",
    "Arithmetic mean of F-1 values of classes\n",
    "Of course, in another case, we can first obtain the arithmetic mean of the class percision and the arithmetic mean of the class recall, and then synchronize the average value from these two values.\n",
    "\n",
    "**Micro** :\n",
    "\n",
    "Is equal to the same accuracy, ie the number of correct classifications divided by the total number of samples.\n",
    "\n",
    "**Weighted** :\n",
    "\n",
    "Weighted average values of F-1 classes in which the weight of each value can be considered as the ratio of the number of samples in that class to the total number of samples"
   ]
  },
  {
   "cell_type": "markdown",
   "metadata": {},
   "source": [
    "# 10 :\n",
    "\n",
    "**a) without additive smoothing:**\n",
    "\n",
    "Macro: \n",
    "\n",
    "\n",
    "$$F_1 = \\frac{0.61 + 0.71 + 0.84 + 0.48 + 0.70 + 0.76}{6} = 68.5\\%$$\n",
    "\n",
    "$$Precision = \\frac{0.5 + 0.61 + 0.95 + 0.51 + 0.91 + 0.92}{6} = 73.33\\%$$\n",
    "\n",
    "$$Recall = \\frac{0.8 + 0.84 + 0.76 + 0.46 + 0.57 + 0.65}{6} = 68\\%$$\n",
    "\n",
    "Micro :\n",
    "\n",
    "$$Precision = \\frac{TP_1 + TP_2 + TP_3 + TP_4 + TP_5 + TP_6}{TP_1 + FP_1 + TP_2 + FP_2 + TP_3 + FP_3 + TP_4 + FP_4 + TP_5 + FP_5 + TP_6 + FP_6}$$\n",
    "\n",
    "$$ Precision  = 64.2\\%$$\n",
    "\n",
    "\n",
    "\n",
    "$$Recall = \\frac{TP_1 + TP_2 + TP_3 + TP_4 + TP_5 + TP_6}{TP_1 + FN_1 + TP_2 + FN_2 + TP_3 + FN_3 + TP_4 + FN_4 + TP_5 + FN_5 + TP_6 + FN_6}$$\n",
    "\n",
    "\n",
    "$$ Recall = 68.2\\%$$\n",
    "\n",
    "$$ F_1 = 2.\\frac{(Precision.Recall)}{Precision + Recall} = 57.4\\%$$\n",
    "\n",
    "Weighted Average :\n",
    "\n",
    "The number of samples of each category in the test dataset is 75 so the weighted average will be same as macro average.\n",
    "\n",
    "\n"
   ]
  },
  {
   "cell_type": "markdown",
   "metadata": {},
   "source": [
    "**b) with additive smoothing:**\n",
    "\n",
    "Macro: \n",
    "\n",
    "\n",
    "$$F_1 = \\frac{0.73 + 0.82 + 0.86 + 0.70 + 0.83 + 0.92}{6} = 81\\%$$\n",
    "\n",
    "$$Precision = \\frac{0.78 + 0.79 + 0.92 + 0.70 + 0.78 + 0.90}{6} = 81.16\\%$$\n",
    "\n",
    "$$Recall = \\frac{0.69 + 0.86 + 0.81 + 0.70 + 0.88 + 0.93}{6} = 81.16\\%$$\n",
    "\n",
    "Micro :\n",
    "\n",
    "\n",
    "$$ Precision  = 81.5\\%$$\n",
    "\n",
    "\n",
    "$$ Recall = 81.5\\%$$\n",
    "\n",
    "$$ F_1 = 2.\\frac{(Precision.Recall)}{Precision + Recall} = 81.5\\%$$\n",
    "\n",
    "Weighted Average :\n",
    "\n",
    "The number of samples of each category in the test dataset is 75 so the weighted average will be same as macro average.\n",
    "\n"
   ]
  },
  {
   "cell_type": "markdown",
   "metadata": {},
   "source": [
    "# 11 :\n",
    "\n",
    "we can observe that in the case which we use additive smoothing , all metrics rise highly."
   ]
  },
  {
   "cell_type": "code",
   "execution_count": 81,
   "metadata": {},
   "outputs": [
    {
     "name": "stdout",
     "output_type": "stream",
     "text": [
      "              precision    recall  f1-score   support\n",
      "\n",
      "           0       0.79      0.69      0.74        75\n",
      "           1       0.79      0.87      0.83        75\n",
      "           2       0.92      0.81      0.87        75\n",
      "           3       0.71      0.71      0.71        75\n",
      "           4       0.79      0.88      0.83        75\n",
      "           5       0.91      0.93      0.92        75\n",
      "\n",
      "    accuracy                           0.82       450\n",
      "   macro avg       0.82      0.82      0.81       450\n",
      "weighted avg       0.82      0.82      0.81       450\n",
      "\n"
     ]
    }
   ],
   "source": [
    "print(classification_report(cc, dd))"
   ]
  },
  {
   "cell_type": "code",
   "execution_count": 82,
   "metadata": {},
   "outputs": [
    {
     "data": {
      "text/html": [
       "<div>\n",
       "<style scoped>\n",
       "    .dataframe tbody tr th:only-of-type {\n",
       "        vertical-align: middle;\n",
       "    }\n",
       "\n",
       "    .dataframe tbody tr th {\n",
       "        vertical-align: top;\n",
       "    }\n",
       "\n",
       "    .dataframe thead th {\n",
       "        text-align: right;\n",
       "    }\n",
       "</style>\n",
       "<table border=\"1\" class=\"dataframe\">\n",
       "  <thead>\n",
       "    <tr style=\"text-align: right;\">\n",
       "      <th></th>\n",
       "      <th>title</th>\n",
       "      <th>description</th>\n",
       "      <th>categories</th>\n",
       "    </tr>\n",
       "  </thead>\n",
       "  <tbody>\n",
       "    <tr>\n",
       "      <th>0</th>\n",
       "      <td>کآشوب</td>\n",
       "      <td>«کآشوب (بیست و سه روایت از روضه‌هایی که زندگی ...</td>\n",
       "      <td>داستان کوتاه</td>\n",
       "    </tr>\n",
       "    <tr>\n",
       "      <th>5</th>\n",
       "      <td>اسلام و چالش اقتصادی</td>\n",
       "      <td>«اسلام و چالش اقتصادی» نوشته محمد عمر چپرا(   ...</td>\n",
       "      <td>کلیات اسلام</td>\n",
       "    </tr>\n",
       "    <tr>\n",
       "      <th>8</th>\n",
       "      <td>چرا اقتصاد فرو می‌ریزد؟: به سوی نظریه‌ای عمومی...</td>\n",
       "      <td>«جوزف استیگلیتز» برنده جایزه نوبل اقتصاد در سا...</td>\n",
       "      <td>جامعه‌شناسی</td>\n",
       "    </tr>\n",
       "    <tr>\n",
       "      <th>12</th>\n",
       "      <td>زندانی قلعه‌ی قهقهه</td>\n",
       "      <td>رمان تاریخی «زندانی قلعه قهقهه» روایت‌گر سرگذش...</td>\n",
       "      <td>داستان کوتاه</td>\n",
       "    </tr>\n",
       "    <tr>\n",
       "      <th>20</th>\n",
       "      <td>فاطمه علی است</td>\n",
       "      <td>«فاطمه علی است» نوشته علی قهرمانی کتابی درباره...</td>\n",
       "      <td>کلیات اسلام</td>\n",
       "    </tr>\n",
       "  </tbody>\n",
       "</table>\n",
       "</div>"
      ],
      "text/plain": [
       "                                                title  \\\n",
       "0                                               کآشوب   \n",
       "5                                اسلام و چالش اقتصادی   \n",
       "8   چرا اقتصاد فرو می‌ریزد؟: به سوی نظریه‌ای عمومی...   \n",
       "12                                زندانی قلعه‌ی قهقهه   \n",
       "20                                      فاطمه علی است   \n",
       "\n",
       "                                          description    categories  \n",
       "0   «کآشوب (بیست و سه روایت از روضه‌هایی که زندگی ...  داستان کوتاه  \n",
       "5   «اسلام و چالش اقتصادی» نوشته محمد عمر چپرا(   ...   کلیات اسلام  \n",
       "8   «جوزف استیگلیتز» برنده جایزه نوبل اقتصاد در سا...   جامعه‌شناسی  \n",
       "12  رمان تاریخی «زندانی قلعه قهقهه» روایت‌گر سرگذش...  داستان کوتاه  \n",
       "20  «فاطمه علی است» نوشته علی قهرمانی کتابی درباره...   کلیات اسلام  "
      ]
     },
     "execution_count": 82,
     "metadata": {},
     "output_type": "execute_result"
    }
   ],
   "source": [
    "m = pd.DataFrame(misses)\n",
    "m.head(5)"
   ]
  },
  {
   "cell_type": "code",
   "execution_count": 83,
   "metadata": {},
   "outputs": [
    {
     "name": "stdout",
     "output_type": "stream",
     "text": [
      "[0, 1, 5, 4, 4]\n"
     ]
    }
   ],
   "source": [
    "print(p_misses[:5])\n"
   ]
  },
  {
   "cell_type": "code",
   "execution_count": 85,
   "metadata": {},
   "outputs": [
    {
     "name": "stdout",
     "output_type": "stream",
     "text": [
      "«فاطمه علی است» نوشته علی قهرمانی کتابی درباره زندگی مشترک حضرت زهرا (س) و حضرت علی (ع) است. این اثر می‌تواند الگویی کامل برای زندگی مشترک تمامی زوج های جوان باشد. گذشت  ایثار، همدلی و همراهی و عشق و مهرورزی درس‌هایی است که این داستان زندگی به ما می‌دهد:\r\n",
      "اول ازدواج‌شان و آغاز راه زندگی مشترک بود. هر دو پیش رسول خدا (ص) آمدند. پیامبر (ص) معلم زندگی بهتر و تدبیر منزل انسان‌ها بود. نوبت که به کارهای خانه رسید، پیامبر (ص) پیشنهاد کرد: «کارهای‌خانه برای فاطمه (س) و کارهای بیرون از خانه برای‌علی (ع)».\r\n",
      "لبخند بر لبان فاطمه (س) نشست و گفت: «خدامی‌داند که من چقدر از این تقسیم خوشحالم!»\r\n",
      "کارهای خانه کم نبود؛ اما زهرا (س) خوشحال و راضی بود. می‌گفت: «از سعادتمندی زن این است که بی‌دلیل در گذر نگاه نامحرم‌ها نباشد».\r\n",
      "آرد کردن جو یا گندم تا پخت نان، طبخ و آماده کردن غذا همه بر دوش فاطمه (س) بود. کارهای مربوط به خانه یک طرف، رسیدگی به بچه‌ها و هم‌بازی شدن با آنها هم طرف دیگر.\r\n",
      "علی (ع) آب خوردن تهیه می‌کرد، برای منزل هیزم می‌آورد، خریدهای خانه را انجام می‌داد و غیره؛ اما فقط کارهای بیرون منزل را انجام نمی‌داد. اگر فرصتی می‌یافت، خانه را جارو و به زهرایش در کارهای خانه کمک می‌کرد.\r\n",
      "آن روز پیامبر (ص) مهمان خانه‌شان بود. مهمان زودتر از موعد رسید. دختر و دامادش را دید که با هم نشسته‌اند به پاک کردن عدس. با لبخندی که نشان از خرسندی و خوشحالی بود، گفت: «خدا به مردی که در کار خانه به همسرش کمک می‌کند به اندازهٔ موهای بدنش ثواب عبادت می‌دهد».\n"
     ]
    }
   ],
   "source": [
    "print(m['description'][20])\n"
   ]
  },
  {
   "cell_type": "code",
   "execution_count": 86,
   "metadata": {},
   "outputs": [
    {
     "name": "stdout",
     "output_type": "stream",
     "text": [
      "فاطمه علی است\n"
     ]
    }
   ],
   "source": [
    "print(m['title'][20])"
   ]
  },
  {
   "cell_type": "markdown",
   "metadata": {},
   "source": [
    "# 12 :\n",
    "in the book namely  فاطمه علی است , because of words like نوشته - بچه this part considered as a kids story , and becasuse words like فاطمه - علی  are characteres in kids story and not considered as imams , this misclassifying has been occured.\n",
    "To solve this problem, in cases where the probability of a book belonging to two classes is close to each other, it can be placed in a new class that combines the two classes."
   ]
  },
  {
   "cell_type": "code",
   "execution_count": null,
   "metadata": {},
   "outputs": [],
   "source": []
  }
 ],
 "metadata": {
  "kernelspec": {
   "display_name": "Python 3",
   "language": "python",
   "name": "python3"
  },
  "language_info": {
   "codemirror_mode": {
    "name": "ipython",
    "version": 3
   },
   "file_extension": ".py",
   "mimetype": "text/x-python",
   "name": "python",
   "nbconvert_exporter": "python",
   "pygments_lexer": "ipython3",
   "version": "3.8.3"
  }
 },
 "nbformat": 4,
 "nbformat_minor": 4
}
